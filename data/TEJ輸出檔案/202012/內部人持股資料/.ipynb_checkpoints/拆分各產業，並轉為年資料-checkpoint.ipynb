{
 "cells": [
  {
   "cell_type": "code",
   "execution_count": 50,
   "metadata": {},
   "outputs": [],
   "source": [
    "import pandas as pd\n",
    "from tqdm import tqdm"
   ]
  },
  {
   "cell_type": "code",
   "execution_count": 3,
   "metadata": {},
   "outputs": [],
   "source": [
    "df=pd.read_csv('全產業.csv',sep='^')"
   ]
  },
  {
   "cell_type": "code",
   "execution_count": 12,
   "metadata": {},
   "outputs": [
    {
     "data": {
      "text/html": [
       "<div>\n",
       "<style scoped>\n",
       "    .dataframe tbody tr th:only-of-type {\n",
       "        vertical-align: middle;\n",
       "    }\n",
       "\n",
       "    .dataframe tbody tr th {\n",
       "        vertical-align: top;\n",
       "    }\n",
       "\n",
       "    .dataframe thead th {\n",
       "        text-align: right;\n",
       "    }\n",
       "</style>\n",
       "<table border=\"1\" class=\"dataframe\">\n",
       "  <thead>\n",
       "    <tr style=\"text-align: right;\">\n",
       "      <th></th>\n",
       "      <th>公司代碼</th>\n",
       "      <th>簡稱</th>\n",
       "      <th>TSE新產業名</th>\n",
       "      <th>上市別</th>\n",
       "      <th>年月日</th>\n",
       "      <th>持股人姓名</th>\n",
       "      <th>身份別</th>\n",
       "      <th>期初股數</th>\n",
       "      <th>期末股數</th>\n",
       "      <th>期初股數(合計)</th>\n",
       "      <th>期末股數(合計)</th>\n",
       "    </tr>\n",
       "  </thead>\n",
       "  <tbody>\n",
       "    <tr>\n",
       "      <th>0</th>\n",
       "      <td>1101</td>\n",
       "      <td>台泥</td>\n",
       "      <td>M1100 水泥工業</td>\n",
       "      <td>TSE</td>\n",
       "      <td>200601</td>\n",
       "      <td>富品投資                                          ...</td>\n",
       "      <td>董事長                                           ...</td>\n",
       "      <td>13680</td>\n",
       "      <td>19013</td>\n",
       "      <td>13680</td>\n",
       "      <td>19013</td>\n",
       "    </tr>\n",
       "    <tr>\n",
       "      <th>1</th>\n",
       "      <td>1101</td>\n",
       "      <td>台泥</td>\n",
       "      <td>M1100 水泥工業</td>\n",
       "      <td>TSE</td>\n",
       "      <td>200601</td>\n",
       "      <td>鮑信宏                                           ...</td>\n",
       "      <td>協理                                            ...</td>\n",
       "      <td>18</td>\n",
       "      <td>28</td>\n",
       "      <td>18</td>\n",
       "      <td>28</td>\n",
       "    </tr>\n",
       "  </tbody>\n",
       "</table>\n",
       "</div>"
      ],
      "text/plain": [
       "   公司代碼           簡稱        TSE新產業名    上市別     年月日  \\\n",
       "0  1101  台泥           M1100 水泥工業     TSE    200601   \n",
       "1  1101  台泥           M1100 水泥工業     TSE    200601   \n",
       "\n",
       "                                               持股人姓名  \\\n",
       "0  富品投資                                          ...   \n",
       "1  鮑信宏                                           ...   \n",
       "\n",
       "                                                 身份別   期初股數   期末股數  期初股數(合計)  \\\n",
       "0  董事長                                           ...  13680  19013     13680   \n",
       "1  協理                                            ...     18     28        18   \n",
       "\n",
       "   期末股數(合計)  \n",
       "0     19013  \n",
       "1        28  "
      ]
     },
     "execution_count": 12,
     "metadata": {},
     "output_type": "execute_result"
    }
   ],
   "source": [
    "df.head(2)"
   ]
  },
  {
   "cell_type": "code",
   "execution_count": 25,
   "metadata": {},
   "outputs": [],
   "source": [
    "df['TSE新產業名'] = df['TSE新產業名'].apply(lambda x:x.strip())\n",
    "df['簡稱'] = df['簡稱'].apply(lambda x:x.strip())"
   ]
  },
  {
   "cell_type": "code",
   "execution_count": 26,
   "metadata": {},
   "outputs": [],
   "source": [
    "industry_list = df['TSE新產業名'].unique()"
   ]
  },
  {
   "cell_type": "code",
   "execution_count": 46,
   "metadata": {},
   "outputs": [],
   "source": [
    "def transfer_year(df):\n",
    "    df['公司代碼簡稱'] = df['公司代碼'].astype(str)+' '+df['簡稱']\n",
    "    df['資料源年'] = df['年月日'].astype(str).str.slice(0,4).astype(int)\n",
    "    df['身份別'].fillna('無', inplace=True)\n",
    "    df.sort_values(by = ['年月日'], inplace = True)\n",
    "    ans = df.groupby(['公司代碼簡稱', '持股人姓名','公司代碼', '資料源年']).agg({'期初股數': lambda x : x.iloc[0],\n",
    "                                                                               '期末股數': lambda x : x.iloc[-1],\n",
    "                                                                               '期初股數(合計)':lambda x:x.iloc[0],\n",
    "                                                                               '期末股數(合計)': lambda x : x.iloc[-1],\n",
    "                                                                               '年月日': lambda x :x.iloc[-1],\n",
    "                                                                               '身份別': lambda x : '&'.join(x)}).reset_index()\n",
    "    return ans"
   ]
  },
  {
   "cell_type": "code",
   "execution_count": 51,
   "metadata": {},
   "outputs": [
    {
     "name": "stderr",
     "output_type": "stream",
     "text": [
      "  0%|                                                | 0/31 [00:00<?, ?it/s]C:\\Users\\Bruce\\Anaconda3\\lib\\site-packages\\ipykernel_launcher.py:2: SettingWithCopyWarning: \n",
      "A value is trying to be set on a copy of a slice from a DataFrame.\n",
      "Try using .loc[row_indexer,col_indexer] = value instead\n",
      "\n",
      "See the caveats in the documentation: https://pandas.pydata.org/pandas-docs/stable/user_guide/indexing.html#returning-a-view-versus-a-copy\n",
      "  \n",
      "C:\\Users\\Bruce\\Anaconda3\\lib\\site-packages\\ipykernel_launcher.py:3: SettingWithCopyWarning: \n",
      "A value is trying to be set on a copy of a slice from a DataFrame.\n",
      "Try using .loc[row_indexer,col_indexer] = value instead\n",
      "\n",
      "See the caveats in the documentation: https://pandas.pydata.org/pandas-docs/stable/user_guide/indexing.html#returning-a-view-versus-a-copy\n",
      "  This is separate from the ipykernel package so we can avoid doing imports until\n",
      "C:\\Users\\Bruce\\Anaconda3\\lib\\site-packages\\ipykernel_launcher.py:5: SettingWithCopyWarning: \n",
      "A value is trying to be set on a copy of a slice from a DataFrame\n",
      "\n",
      "See the caveats in the documentation: https://pandas.pydata.org/pandas-docs/stable/user_guide/indexing.html#returning-a-view-versus-a-copy\n",
      "  \"\"\"\n",
      "100%|███████████████████████████████████████| 31/31 [01:01<00:00,  1.98s/it]\n"
     ]
    }
   ],
   "source": [
    "for ind in tqdm(industry_list):\n",
    "    tmp = df.query('TSE新產業名==@ind')\n",
    "    ans = transfer_year(tmp)\n",
    "    ans.to_excel(f'{ind}_內部人持股.xlsx', index=False, encoding='utf-8-sig')"
   ]
  },
  {
   "cell_type": "code",
   "execution_count": null,
   "metadata": {},
   "outputs": [],
   "source": []
  }
 ],
 "metadata": {
  "kernelspec": {
   "display_name": "Python 3",
   "language": "python",
   "name": "python3"
  },
  "language_info": {
   "codemirror_mode": {
    "name": "ipython",
    "version": 3
   },
   "file_extension": ".py",
   "mimetype": "text/x-python",
   "name": "python",
   "nbconvert_exporter": "python",
   "pygments_lexer": "ipython3",
   "version": "3.7.7"
  }
 },
 "nbformat": 4,
 "nbformat_minor": 4
}
