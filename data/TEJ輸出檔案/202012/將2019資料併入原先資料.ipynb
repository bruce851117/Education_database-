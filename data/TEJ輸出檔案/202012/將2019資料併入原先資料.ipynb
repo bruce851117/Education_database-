{
 "cells": [
  {
   "cell_type": "code",
   "execution_count": 10,
   "metadata": {},
   "outputs": [],
   "source": [
    "import pandas as pd\n",
    "pd.set_option('display.max_columns', 500)"
   ]
  },
  {
   "cell_type": "code",
   "execution_count": 5,
   "metadata": {},
   "outputs": [],
   "source": [
    "df = pd.read_excel('./2019資料/2019全.xlsx')"
   ]
  },
  {
   "cell_type": "code",
   "execution_count": 38,
   "metadata": {},
   "outputs": [],
   "source": [
    "df['TSE新產業名'] = df['TSE新產業名'].apply(lambda x:x.strip())"
   ]
  },
  {
   "cell_type": "code",
   "execution_count": 52,
   "metadata": {},
   "outputs": [],
   "source": [
    "df['上市別'] = df['上市別'].apply(lambda x:x.strip())"
   ]
  },
  {
   "cell_type": "code",
   "execution_count": 55,
   "metadata": {},
   "outputs": [],
   "source": [
    "from glob import glob\n",
    "files = glob('../0318版/依產業分/*.xlsx')"
   ]
  },
  {
   "cell_type": "code",
   "execution_count": 56,
   "metadata": {},
   "outputs": [
    {
     "name": "stdout",
     "output_type": "stream",
     "text": [
      "../0318版/依產業分\\M1100 水泥工業.xlsx\n",
      "共合併 616 rows\n",
      "../0318版/依產業分\\M1200 食品工業.xlsx\n",
      "共合併 2495 rows\n",
      "../0318版/依產業分\\M1300 塑膠工業.xlsx\n",
      "共合併 2078 rows\n",
      "../0318版/依產業分\\M1400 紡織纖維.xlsx\n",
      "共合併 3393 rows\n",
      "../0318版/依產業分\\M1500 電機機械.xlsx\n",
      "共合併 7013 rows\n",
      "../0318版/依產業分\\M1600 電器電纜.xlsx\n",
      "共合併 1441 rows\n",
      "../0318版/依產業分\\M1721 化學工業.xlsx\n",
      "共合併 3326 rows\n",
      "../0318版/依產業分\\M1722 生技醫療.xlsx\n",
      "共合併 12170 rows\n",
      "../0318版/依產業分\\M1800 玻璃陶瓷.xlsx\n",
      "共合併 480 rows\n",
      "../0318版/依產業分\\M1900 造紙工業.xlsx\n",
      "共合併 632 rows\n",
      "../0318版/依產業分\\M2000 鋼鐵工業.xlsx\n",
      "共合併 3185 rows\n",
      "../0318版/依產業分\\M2100 橡膠工業.xlsx\n",
      "共合併 738 rows\n",
      "../0318版/依產業分\\M2200 汽車工業.xlsx\n",
      "共合併 3420 rows\n",
      "../0318版/依產業分\\M2324 半導體.xlsx\n",
      "共合併 13524 rows\n",
      "../0318版/依產業分\\M2325 電腦及週邊.xlsx\n",
      "共合併 11132 rows\n",
      "../0318版/依產業分\\M2326 光電業.xlsx\n",
      "共合併 10496 rows\n",
      "../0318版/依產業分\\M2327 通信網路業.xlsx\n",
      "共合併 8491 rows\n",
      "../0318版/依產業分\\M2328 電子零組件.xlsx\n",
      "共合併 17178 rows\n",
      "../0318版/依產業分\\M2329 電子通路業.xlsx\n",
      "共合併 3262 rows\n",
      "../0318版/依產業分\\M2330 資訊服務業.xlsx\n",
      "共合併 3557 rows\n",
      "../0318版/依產業分\\M2331 其他電子業.xlsx\n",
      "共合併 6955 rows\n",
      "../0318版/依產業分\\M2500 建材營造.xlsx\n",
      "共合併 5177 rows\n",
      "../0318版/依產業分\\M2600 航運業.xlsx\n",
      "共合併 3258 rows\n",
      "../0318版/依產業分\\M2700 觀光事業.xlsx\n",
      "共合併 3449 rows\n",
      "../0318版/依產業分\\M2800 金融業.xlsx\n",
      "共合併 9275 rows\n",
      "../0318版/依產業分\\M2900 貿易百貨.xlsx\n",
      "共合併 3800 rows\n",
      "../0318版/依產業分\\M3200 文化創意業.xlsx\n",
      "共合併 2361 rows\n",
      "../0318版/依產業分\\M3300 農業科技.xlsx\n",
      "共合併 283 rows\n",
      "../0318版/依產業分\\M3400 電子商務.xlsx\n",
      "共合併 466 rows\n",
      "../0318版/依產業分\\M9700 油電燃氣業.xlsx\n",
      "共合併 776 rows\n",
      "../0318版/依產業分\\M9900 其他.xlsx\n",
      "共合併 11539 rows\n",
      "../0318版/依產業分\\None.xlsx\n",
      "共合併 0 rows\n",
      "../0318版/依產業分\\W91   存託憑證.xlsx\n",
      "共合併 0 rows\n"
     ]
    }
   ],
   "source": [
    "for file in files:\n",
    "    print(file)\n",
    "    tmp = pd.read_excel(file)\n",
    "    tmp['TSE新產業名'] = tmp['TSE新產業名'].apply(lambda x:x.strip())\n",
    "    tmp['上市別'] = tmp['上市別'].apply(lambda x:x.strip())\n",
    "    ind = tmp['TSE新產業名'].unique()[0]\n",
    "    row_num = df.query('TSE新產業名==@ind').shape[0]\n",
    "    print(f'共合併 {row_num} rows')\n",
    "    # 原先學姊在step 4.1時才篩選上市or上櫃，現在先在一開始併入2019年資料時先做篩選\n",
    "    tmp = tmp[(tmp['上市別']==\"TSE\") | (tmp['上市別']==\"OTC\")]\n",
    "    tmp = tmp.append(df.query('TSE新產業名==@ind'))\n",
    "    tmp.to_excel(f'{ind}.xlsx', index=False, encoding = 'utf_8_sig')"
   ]
  },
  {
   "cell_type": "code",
   "execution_count": null,
   "metadata": {},
   "outputs": [],
   "source": []
  }
 ],
 "metadata": {
  "kernelspec": {
   "display_name": "Python 3",
   "language": "python",
   "name": "python3"
  },
  "language_info": {
   "codemirror_mode": {
    "name": "ipython",
    "version": 3
   },
   "file_extension": ".py",
   "mimetype": "text/x-python",
   "name": "python",
   "nbconvert_exporter": "python",
   "pygments_lexer": "ipython3",
   "version": "3.7.7"
  }
 },
 "nbformat": 4,
 "nbformat_minor": 4
}
