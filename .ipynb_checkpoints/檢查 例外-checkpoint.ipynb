{
 "cells": [
  {
   "cell_type": "code",
   "execution_count": 1,
   "metadata": {},
   "outputs": [],
   "source": [
    "import pandas as pd\n",
    "import numpy as np\n",
    "import os\n",
    "import re\n",
    "from datetime import date\n",
    "from step0_settings import domainPath, dataPath, deptCollegeDict, deptCollegeDictExcept, subInd, industryCollegeDict, mmdd, needIndustry\n",
    "\n",
    "pd.options.display.max_columns = 100\n",
    "pd.options.display.max_rows = 2000  #調整pandas輸出display列數\n",
    "pd.set_option('display.max_colwidth',1000)  #設定每個欄位dsiplay字數長度\n",
    "\n",
    "\n",
    "def FindMajor(string):  #清除\"大學\"或其他學校名稱以前的字 \n",
    "    '''\n",
    "    若為台灣大學財務金融學系，則取出財務金融學系\n",
    "    '''\n",
    "    global keyword\n",
    "    index = keyword.index('藥專')\n",
    "    # 使用\"藥專\"以前的字\n",
    "    for school in keyword[: (index+1)]:\n",
    "        if school not in string:\n",
    "            continue\n",
    "        return string.split(school)[-1]\n",
    "    return string\n",
    "\n",
    "def MatchMajorCollege(string):   #配對科系&相對應學院\n",
    "    global deptCollegeDict\n",
    "    # 先找例外中的，若有符合，先return\n",
    "    for keys in deptCollegeDictExcept:\n",
    "        if keys in string:\n",
    "            return (deptCollegeDictExcept[str(keys)])\n",
    "        \n",
    "    major_name = FindMajor(string)\n",
    "    for keys in deptCollegeDict:\n",
    "        if keys in major_name:\n",
    "            print(keys)\n",
    "            return(deptCollegeDict[str(keys)])\n",
    "    return(\"無法辨識\")\n",
    "\n",
    "\n",
    "\n",
    "keyword = ['大學',                 #會先使用index較前面字串去比對，所以越常出現的index會越前面\n",
    "           '學校',\n",
    "           '科大','University','Univ','應大',\n",
    "           '補校',\n",
    "           '中學','初中','中學',\n",
    "           '女中','高中',\n",
    "           '學院',\n",
    "           \n",
    "           '商專','商職','商工','高商','家商','工職','高工','工商','工農','家職','高職',\n",
    "           '專科','專校',\n",
    "           '家專','企專','空專','海專','醫專','工專','農專','藥專',\n",
    "           \n",
    "           \n",
    "           '研究所','博士','學士','碩士','所','系','Ph\\.D',\n",
    "           'MBA','College','School','u\\.'\n",
    "           ] \n",
    "\n",
    "#可以辨別是否是學歷的關鍵字，有出現這些字則高度可能是經歷\n",
    "delete = ['教授','主任','講師','事務所','所長','院長','校長','董事','執行長','委員',\n",
    "          '處長','協理','總務長','館長','副總裁',\n",
    "           '總經理','邀請','主管','株式會社','兼任','曾任','理事長','研究員','副理',\n",
    "          '股份有限公司','證券交易所','所羅門(股)公司財務處專案經理','工研院電子所課長',\n",
    "          '期貨交易所','台科視訊系統(蘇州)有限公司經理','工研院電子所會計室管理師','艾睿電子經理',\n",
    "          '中國鋼鐵\\(股\\)公司成本帳務系統組','專任助教','資深經理','本行系統開發營運部經理',\n",
    "          '司法官訓練所',\n",
    "          '公司監察人','大學學務長','期交所監察人','中華民國工商協進會顧問','中央研究所',\n",
    "          '教務處註冊組','學生事務長','工研院','工業技術研究院','大學任教','司法官訓練所第',\n",
    "          '交通部電信研究所','大學助教','公司監察人','大學教務長',\n",
    "          '\\(股\\)公司','中油煉製研究所專案經理','校友會會長','臺灣工商聯合會會務顧問','校友總會',\n",
    "          '中科院航空研究所',\n",
    "          '高職教師','鳳和中學教師','中心診所醫療財團法人中心綜合醫院顧問','大學總務處文書組長',\n",
    "          '大學產學合作處產學合作長','德州儀器公司','中山科學院副組長','工商建研會理事',\n",
    "          '\\[無職稱\\]','醫藥專業行銷人員認證','研討會主講人','計畫總主持人','工商時報專欄記者',\n",
    "          '醫院婦產科醫師','中泰電腦系統部經理','傑出校友','Professor',\n",
    "          'Chair of Council and Senior Pro-Chancellor',\n",
    "          '英國Loughborough大學Council and Senior Pro-Chancellor主席','訪問學者','訪問學人'\n",
    "         ]\n",
    "\n"
   ]
  },
  {
   "cell_type": "code",
   "execution_count": 18,
   "metadata": {},
   "outputs": [],
   "source": [
    "x = '約翰 霍普金斯公共衛生博士候選人'"
   ]
  },
  {
   "cell_type": "code",
   "execution_count": 19,
   "metadata": {},
   "outputs": [
    {
     "data": {
      "text/plain": [
       "'約翰 霍普金斯公共衛生博士候選人'"
      ]
     },
     "execution_count": 19,
     "metadata": {},
     "output_type": "execute_result"
    }
   ],
   "source": [
    "FindMajor(x)"
   ]
  },
  {
   "cell_type": "code",
   "execution_count": 20,
   "metadata": {},
   "outputs": [
    {
     "data": {
      "text/plain": [
       "'無法辨識'"
      ]
     },
     "execution_count": 20,
     "metadata": {},
     "output_type": "execute_result"
    }
   ],
   "source": [
    "MatchMajorCollege(x)"
   ]
  },
  {
   "cell_type": "code",
   "execution_count": null,
   "metadata": {},
   "outputs": [],
   "source": []
  },
  {
   "cell_type": "code",
   "execution_count": null,
   "metadata": {},
   "outputs": [],
   "source": []
  },
  {
   "cell_type": "code",
   "execution_count": null,
   "metadata": {},
   "outputs": [],
   "source": []
  },
  {
   "cell_type": "code",
   "execution_count": 37,
   "metadata": {},
   "outputs": [],
   "source": [
    "df = pd.DataFrame()"
   ]
  },
  {
   "cell_type": "code",
   "execution_count": 38,
   "metadata": {},
   "outputs": [],
   "source": [
    "from glob import glob\n",
    "files = glob('C:\\\\Users\\\\Bruce\\\\Desktop\\\\科系資料\\\\*.xlsx')"
   ]
  },
  {
   "cell_type": "code",
   "execution_count": 39,
   "metadata": {},
   "outputs": [],
   "source": [
    "for file in files:\n",
    "    tmp = pd.read_excel(file)[['學經歷及目前兼任說明']].dropna()\n",
    "    tmp.columns = ['x']\n",
    "#     tmp['y'] = tmp['x'].apply(lambda x:FindMajor(x) if type(x)==str else x)\n",
    "    tmp['y'] = tmp['x'].apply(FindMajor)\n",
    "    \n",
    "    df = pd.concat([df,tmp],0)"
   ]
  },
  {
   "cell_type": "code",
   "execution_count": 41,
   "metadata": {},
   "outputs": [
    {
     "data": {
      "text/html": [
       "<div>\n",
       "<style scoped>\n",
       "    .dataframe tbody tr th:only-of-type {\n",
       "        vertical-align: middle;\n",
       "    }\n",
       "\n",
       "    .dataframe tbody tr th {\n",
       "        vertical-align: top;\n",
       "    }\n",
       "\n",
       "    .dataframe thead th {\n",
       "        text-align: right;\n",
       "    }\n",
       "</style>\n",
       "<table border=\"1\" class=\"dataframe\">\n",
       "  <thead>\n",
       "    <tr style=\"text-align: right;\">\n",
       "      <th></th>\n",
       "      <th>x</th>\n",
       "      <th>y</th>\n",
       "    </tr>\n",
       "  </thead>\n",
       "  <tbody>\n",
       "    <tr>\n",
       "      <th>357</th>\n",
       "      <td>中興大學農學院畢業</td>\n",
       "      <td>農學院畢業</td>\n",
       "    </tr>\n",
       "    <tr>\n",
       "      <th>117</th>\n",
       "      <td>台灣大學農學士</td>\n",
       "      <td>農學士</td>\n",
       "    </tr>\n",
       "    <tr>\n",
       "      <th>185</th>\n",
       "      <td>東海大學農學博士</td>\n",
       "      <td>農學博士</td>\n",
       "    </tr>\n",
       "    <tr>\n",
       "      <th>104</th>\n",
       "      <td>省立台中農學院</td>\n",
       "      <td></td>\n",
       "    </tr>\n",
       "  </tbody>\n",
       "</table>\n",
       "</div>"
      ],
      "text/plain": [
       "             x      y\n",
       "357  中興大學農學院畢業  農學院畢業\n",
       "117    台灣大學農學士    農學士\n",
       "185   東海大學農學博士   農學博士\n",
       "104    省立台中農學院       "
      ]
     },
     "execution_count": 41,
     "metadata": {},
     "output_type": "execute_result"
    }
   ],
   "source": [
    "df[df.x.str.contains('農學')].sort_values('x')"
   ]
  },
  {
   "cell_type": "code",
   "execution_count": null,
   "metadata": {},
   "outputs": [],
   "source": []
  }
 ],
 "metadata": {
  "kernelspec": {
   "display_name": "Python 3",
   "language": "python",
   "name": "python3"
  },
  "language_info": {
   "codemirror_mode": {
    "name": "ipython",
    "version": 3
   },
   "file_extension": ".py",
   "mimetype": "text/x-python",
   "name": "python",
   "nbconvert_exporter": "python",
   "pygments_lexer": "ipython3",
   "version": "3.7.7"
  }
 },
 "nbformat": 4,
 "nbformat_minor": 4
}
